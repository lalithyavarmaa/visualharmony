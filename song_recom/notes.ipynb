{
 "cells": [
  {
   "cell_type": "markdown",
   "metadata": {},
   "source": [
    "Using requirements.in for Dependency Management"
   ]
  },
  {
   "cell_type": "markdown",
   "metadata": {},
   "source": [
    "📌 Why Use requirements.in Instead of Directly Creating requirements.txt?\n",
    "\n",
    "1. Simplifies Dependency Management\n",
    "\n",
    "-> You specify only the top-level dependencies (the ones your project directly needs).\n",
    "-> No need to manually track sub-dependencies and their versions.\n",
    "\n",
    "2. Ensures Compatibility\n",
    "\n",
    "-> pip-compile automatically resolves compatible versions of all dependencies and their sub-dependencies.\n",
    "-> Prevents version conflicts that could break the project.\n",
    "\n",
    "3. Keeps Requirements Organized\n",
    "\n",
    "-> Instead of having a long, version-pinned requirements.txt, you maintain a clean and readable requirements.in with only the main dependencies.\n",
    "\n",
    "4. Easy Updates\n",
    "\n",
    "-> You can upgrade dependencies safely while ensuring compatibility."
   ]
  },
  {
   "cell_type": "markdown",
   "metadata": {},
   "source": [
    "🛠 How to Use requirements.in"
   ]
  },
  {
   "cell_type": "markdown",
   "metadata": {},
   "source": [
    "Step 1: Install pip-tools\n",
    "First, install the pip-tools package, which provides pip-compile:"
   ]
  },
  {
   "cell_type": "code",
   "execution_count": null,
   "metadata": {
    "vscode": {
     "languageId": "plaintext"
    }
   },
   "outputs": [],
   "source": [
    "pip install pip-tools"
   ]
  },
  {
   "cell_type": "markdown",
   "metadata": {},
   "source": [
    "Step 2: Create requirements.in\n",
    "This file lists only the main dependencies without specifying exact versions."
   ]
  },
  {
   "cell_type": "code",
   "execution_count": null,
   "metadata": {
    "vscode": {
     "languageId": "plaintext"
    }
   },
   "outputs": [],
   "source": [
    "flask\n",
    "numpy\n",
    "pandas"
   ]
  },
  {
   "cell_type": "markdown",
   "metadata": {},
   "source": [
    "Step 3: Generate requirements.txt Using pip-compile\n",
    "Run the following command:"
   ]
  },
  {
   "cell_type": "code",
   "execution_count": null,
   "metadata": {
    "vscode": {
     "languageId": "plaintext"
    }
   },
   "outputs": [],
   "source": [
    "pip-compile requirements.in"
   ]
  },
  {
   "cell_type": "markdown",
   "metadata": {},
   "source": [
    "🔹 This creates a fully pinned requirements.txt with compatible versions, ensuring stability.\n",
    "📄 Example requirements.txt (Auto-Generated):"
   ]
  },
  {
   "cell_type": "code",
   "execution_count": null,
   "metadata": {
    "vscode": {
     "languageId": "plaintext"
    }
   },
   "outputs": [],
   "source": [
    "flask==2.2.3\n",
    "numpy==1.24.3\n",
    "pandas==1.5.3\n",
    "click==8.1.3  # Flask dependency\n",
    "itsdangerous==2.1.2  # Flask dependency\n",
    "werkzeug==2.2.3  # Flask dependency"
   ]
  },
  {
   "cell_type": "markdown",
   "metadata": {},
   "source": [
    "🔹 Notice how it includes sub-dependencies (like click, werkzeug) that Flask needs, ensuring everything works together.\n",
    "\n",
    "Step 4: Install Dependencies\n",
    "Now, install all dependencies from the generated requirements.txt:"
   ]
  },
  {
   "cell_type": "code",
   "execution_count": null,
   "metadata": {
    "vscode": {
     "languageId": "plaintext"
    }
   },
   "outputs": [],
   "source": [
    "pip install -r requirements.txt"
   ]
  },
  {
   "cell_type": "markdown",
   "metadata": {},
   "source": [
    "Step 5: Updating Dependencies\n",
    "When you need to update your packages safely:"
   ]
  },
  {
   "cell_type": "code",
   "execution_count": null,
   "metadata": {
    "vscode": {
     "languageId": "plaintext"
    }
   },
   "outputs": [],
   "source": [
    "pip-compile --upgrade\n",
    "pip install -r requirements.txt"
   ]
  },
  {
   "cell_type": "markdown",
   "metadata": {},
   "source": [
    "SUMMARY\n",
    "\n",
    "requirements.in → Defines only main dependencies.\n",
    "\n",
    "pip-compile → Generates a requirements.txt with fully pinned compatible versions.\n",
    "\n",
    "pip install -r requirements.txt → Installs dependencies safely.\n",
    "\n",
    "pip-compile --upgrade → Updates dependencies without breaking compatibility."
   ]
  }
 ],
 "metadata": {
  "language_info": {
   "name": "python"
  }
 },
 "nbformat": 4,
 "nbformat_minor": 2
}
